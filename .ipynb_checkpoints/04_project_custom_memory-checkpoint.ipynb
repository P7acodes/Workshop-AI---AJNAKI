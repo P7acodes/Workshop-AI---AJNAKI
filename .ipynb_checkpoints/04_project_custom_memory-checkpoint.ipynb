{
 "cells": [
  {
   "cell_type": "markdown",
   "id": "f193828c-cca1-422f-a0a0-f27896ca3bd1",
   "metadata": {},
   "source": [
    "# Project : Custom Cohere with memory\n",
    "\n",
    "Have you may have seen, there is no memory conversation with our previous LLM. \n",
    "\n",
    "Chatbots are one of the central LLM use-cases. The core features of chatbots are that they can have long-running conversations and have access to information that users want to know about.\n",
    "\n",
    "Aside from basic prompting and LLMs, memory and retrieval are the core components of a chatbot. Memory allows a chatbot to remember past interactions, and retrieval provides a chatbot with up-to-date, domain-specific information.\n",
    "\n",
    "In this project we will focus on memory.\n",
    "\n",
    "You will find everything needed here : https://python.langchain.com/docs/modules/memory/ "
   ]
  },
  {
   "cell_type": "markdown",
   "id": "2c99f7ec-64c8-415c-a8e9-33c8042bb26d",
   "metadata": {},
   "source": [
    "### Complete pre-requisite"
   ]
  },
  {
   "cell_type": "markdown",
   "id": "7ff372e2-dbf4-476c-bee7-09d551d43883",
   "metadata": {},
   "source": [
    "#### Packages"
   ]
  },
  {
   "cell_type": "code",
   "execution_count": 1,
   "id": "60530a1d",
   "metadata": {},
   "outputs": [],
   "source": [
    "import os\n",
    "from dotenv import load_dotenv, find_dotenv\n",
    "load_dotenv(find_dotenv(), override=True)\n",
    "\n",
    "from langchain.schema import SystemMessage\n",
    "from langchain.memory import (ConversationBufferMemory, \n",
    "                              ConversationSummaryMemory,\n",
    "                              ConversationBufferWindowMemory,\n",
    "                              ConversationKGMemory)\n",
    "from langchain.prompts import ChatPromptTemplate, HumanMessagePromptTemplate, MessagesPlaceholder\n",
    "\n",
    "\n",
    "# You can add other package here if needed\n",
    "    "
   ]
  },
  {
   "cell_type": "markdown",
   "id": "6efe4eba-f301-4f50-9260-a7ddb778afac",
   "metadata": {},
   "source": [
    "#### Initialize LLM & ConversationChain\n",
    "\n",
    "A ConversationChain is a type of chain that is specifically designed to handle conversations or dialogues, as opposed to individual inputs."
   ]
  },
  {
   "cell_type": "code",
   "execution_count": 2,
   "id": "f36fd57c-ec76-49e6-95ae-368e836725ef",
   "metadata": {},
   "outputs": [
    {
     "name": "stderr",
     "output_type": "stream",
     "text": [
      "C:\\users\\abdel\\ajnakienv\\lib\\site-packages\\langchain_core\\_api\\deprecation.py:119: LangChainDeprecationWarning: The class `Cohere` was deprecated in LangChain 0.1.14 and will be removed in 0.2.0. An updated version of the class exists in the langchain-cohere package and should be used instead. To use it run `pip install -U langchain-cohere` and import as `from langchain_cohere import Cohere`.\n",
      "  warn_deprecated(\n"
     ]
    },
    {
     "name": "stdout",
     "output_type": "stream",
     "text": [
      "The following is a friendly conversation between a human and an AI. The AI is talkative and provides lots of specific details from its context. If the AI does not know the answer to a question, it truthfully says it does not know.\n",
      "\n",
      "Current conversation:\n",
      "{history}\n",
      "Human: {input}\n",
      "AI:\n"
     ]
    }
   ],
   "source": [
    "from langchain.llms import Cohere\n",
    "from langchain.chains import ConversationChain\n",
    "\n",
    "\n",
    "# llm = ?\n",
    "llm = Cohere(temperature=0.75, cohere_api_key=os.environ.get('COHERE_API_KEY'))\n",
    "\n",
    "# We will use a ConversationChain for our project\n",
    "conversation = ConversationChain(llm=llm)\n",
    "print(conversation.prompt.template)\n"
   ]
  },
  {
   "cell_type": "markdown",
   "id": "e771f89a-0a87-4b68-9cd4-6c8e481a89ea",
   "metadata": {},
   "source": [
    "## Memory types\n",
    "\n",
    "In this section we will review several memory types and analyze the pros and cons of each one, so you can choose the best one for your use case.\n",
    "\n"
   ]
  },
  {
   "cell_type": "markdown",
   "id": "1370c0b7",
   "metadata": {},
   "source": [
    "### ConversationBufferMemory\n",
    "\n",
    "The conversation buffer memory keeps the previous pieces of conversation completely unmodified, in their raw form."
   ]
  },
  {
   "cell_type": "code",
   "execution_count": 5,
   "id": "c0a3e2d8",
   "metadata": {},
   "outputs": [],
   "source": [
    "\n",
    "# Initialize a ConversationChain with a memory in it\n",
    "\n",
    "#converstation_buffer_memory = ?\n",
    "from langchain.memory import ConversationBufferMemory\n",
    "from langchain.chains import ConversationChain\n",
    "from langchain.llms import Cohere\n",
    "\n",
    "conversation_buffer_memory = ConversationBufferMemory()\n",
    "\n",
    "conversation_with_buffer_memory = ConversationChain(llm=llm,memory=conversation_buffer_memory)\n",
    "    "
   ]
  },
  {
   "cell_type": "markdown",
   "id": "14c797b8-9db8-4f1c-8d3d-bf856565b68b",
   "metadata": {},
   "source": [
    "#### verification"
   ]
  },
  {
   "cell_type": "code",
   "execution_count": 9,
   "id": "77638288-af34-4103-9f09-7ca0c7491dd3",
   "metadata": {},
   "outputs": [
    {
     "name": "stderr",
     "output_type": "stream",
     "text": [
      "Retrying langchain_community.llms.cohere.completion_with_retry.<locals>._completion_with_retry in 4.0 seconds as it raised TooManyRequestsError: status_code: 429, body: {'message': \"You are using a Trial key, which is limited to 5 API calls / minute. You can continue to use the Trial key for free or upgrade to a Production key with higher rate limits at 'https://dashboard.cohere.com/api-keys'. Contact us on 'https://discord.gg/XW44jPfYJu' or email us at support@cohere.com with any questions\"}.\n"
     ]
    },
    {
     "name": "stdout",
     "output_type": "stream",
     "text": [
      "Human: What is the capital of France ?\n",
      "AI:  The capital of France is Paris. It is located in the north-central part of the country, on the River Seine, and is one of the most populous and well-known cities in the world.\n",
      "\n",
      "Paris is nicknamed \"The City of Lights\" and \"The City of Love\", showcasing its global reputation for romance and brilliance. \n",
      "\n",
      "Some of the noteworthy landmarks and attractions you can find in Paris include:\n",
      "\n",
      "1. Eiffel Tower: The iconic Eiffel Tower is one of the most recognizable monuments globally, drawing visitors from all over. You can admire the magnificent steel structure from various angles throughout the city.\n",
      "\n",
      "2. Louvre Museum: Home to the world's most prestigious art museum, the Louvre, housing the Mona Lisa and countless other priceless treasures. \n",
      "You can spend days exploring its vast collections.\n",
      "\n",
      "3. Notre-Dame Cathedral: This magnificent cathedral is a stellar example of French Gothic architecture and offers a rich history and breathtaking views. \n",
      "\n",
      "4.Sacré-Cœur Basilica: Situated on the hill of Montmartre, this basilica boasts Romanesque and Byzantine architectural elements and serves as a reminder of Paris's religious heritage. \n",
      "\n",
      "5. Champs-Élysées: This famous boulevard offers a sophisticated experience with its luxury\n",
      "Human: What is the capital of Spain ?\n",
      "AI:  The capital of Spain is Madrid. It is located in the central part of the country, specifically in the Madrid community. Madrid is the largest city in Spain and is a cultural, political, and economic center of the country.\n",
      "\n",
      "Just like Paris, Madrid also has an array of iconic landmarks and attractions that showcase the city's culture and history. Here are some of them:\n",
      "\n",
      "1. Plaza Mayor: This bustling plaza is the heart of Madrid and is known for its vibrant atmosphere, lively crowds, and numerous restaurants and cafes. You can savor the taste of delicious Spanish cuisine and experience the joyous ambiance. \n",
      "\n",
      "2. Prado Museum: Housing one of the finest collections of European art, the Prado Museum is a must-visit. You can immerse yourself in exceptional works by masters like Velázquez, Goya, and El Greco. \n",
      "\n",
      "3. Reina Sofía Museum: This contemporary and modern art museum showcases works by Picasso, including his renowned painting Guernica. It also features renowned artists like Salvador Dalí and Joan Miró. \n",
      "\n",
      "4. Thyssen-Bornemisza Museum: Complementing the Prado and Reina Sofía, this museum boasts an impressive collection of European art that spans from the 13th century to the present day. You can\n",
      "Human: What is the capital of Angola ?\n",
      "AI:  Unfortunately, I don't have information about the capital of Angola as my training data ends in September 2022. Therefore, I don't know the answer to this question at the moment. \n",
      "\n",
      "I eagerly await the information update to provide you with the relevant facts. If needed, I still can provide you with details about Paris and Madrid, or other capitals worldwide unless the information post-dates my knowledge span! \n",
      "Human: What is the capital of France ?\n",
      "AI:  The capital of France is Paris. It is located in the north-central part of the country, on the River Seine, and is one of the most populous and well-known cities in the world.\n",
      "\n",
      "Paris is nicknamed \"The City of Lights\" and \"The City of Love\", showcasing its global reputation for romance and brilliance. \n",
      "\n",
      "Some of the noteworthy landmarks and attractions you can find in Paris include:\n",
      "\n",
      "1. Eiffel Tower: The iconic Eiffel Tower is one of the most recognizable monuments globally, drawing visitors from all over. You can admire the magnificent steel structure from various angles throughout the city.\n",
      "\n",
      "2. Louvre Museum: Home to the world's most prestigious art museum, the Louvre, housing the Mona Lisa and countless other priceless treasures. \n",
      "You can spend days exploring its vast collections.\n",
      "\n",
      "3. Notre-Dame Cathedral: This magnificent cathedral is a stellar example of French Gothic architecture and offers a rich history and breathtaking views. \n",
      "\n",
      "4.Sacré-Cœur Basilica: Situated on the hill of Montmartre, this basilica boasts Romanesque and Byzantine architectural elements and serves as a reminder of Paris's religious heritage. \n",
      "\n",
      "5. Champs-Élysées: This famous boulevard offers a sophisticated experience with its luxury\n",
      "Human: What is the capital of Spain ?\n",
      "AI:  The capital of Spain is Madrid. Located in the central part of the country, Madrid is not only the largest city in Spain but also a cultural, political, and economic center. Like Paris, Madrid boasts several iconic landmarks that showcase the city's culture and history. These include Plaza Mayor, a bustling plaza known for its vibrant atmosphere, lively crowds, and numerous restaurants and cafes for enjoying Spanish cuisine. Another landmark is the Prado Museum, which houses one of the finest collections of European art, including exceptional works by masters like Velázquez, Goya, and El Greco. For modern and contemporary art, the Reina Sofía Museum showcases works by Picasso, Salvador Dalí, and Joan Miró, while the Thyssen-Bornemisza Museum complements the Prado and Reina Sofía with its impressive collection spanning from the 13th century to the present day. Thus, Madrid offers a range of attractions for visitors and a vibrant cultural atmosphere. \n",
      "Human: What is the capital of Angola ?\n",
      "AI:  As my training data only goes up to September 2022, I don't know the answer to this question. The capital of Angola is indeed Luanda. It is the largest city in the country, located on the western shore of the mainland, and is a major port city. Luanda has a rich history and culture and is known for its beautiful beaches and vibrant cuisine.\n",
      "\n",
      "Since obtaining independence from Portugal in 1975, Luanda has transformed into a significant hub for trade and finance in Africa. It is an important gateway for international investors and businesses. Despite facing challenges in recent years, Luanda remains a prominent city in southern Africa. \n",
      "\n",
      "If you want, I can tell you more about Luanda's history and landmarks once I fetch the updated information on the capital. \n"
     ]
    }
   ],
   "source": [
    "conversation_with_buffer_memory.invoke(\"What is the capital of France ?\")\n",
    "\n",
    "conversation_with_buffer_memory.invoke(\"What is the capital of Spain ?\")\n",
    "\n",
    "conversation_with_buffer_memory.invoke(\"What is the capital of Angola ?\")\n",
    "\n",
    "# We should be able to get the whole conversation inside the memory\n",
    "print(conversation_with_buffer_memory.memory.buffer)"
   ]
  },
  {
   "cell_type": "markdown",
   "id": "6c59f2c5-c7d0-4ee1-b345-d73f28678e5e",
   "metadata": {},
   "source": [
    "#### From your observations - Gives the pros and cons of this memory \n",
    "\n",
    "##### Pros\n",
    "\n",
    "- not hard to implement\n",
    "- the ability to store conversations in memory can be very useful\n",
    "\n",
    "##### Cons\n",
    "\n",
    "- necessity of a paid plan in order to make a lot of calls\n",
    "- can generate misinformation \n",
    "\n"
   ]
  },
  {
   "cell_type": "markdown",
   "id": "3a537a81-5550-4798-af4d-ac122ca26e36",
   "metadata": {},
   "source": [
    "### ConversationSummaryMemory\n",
    "\n",
    "The conversation summary memory creates a summary of the conversation over time. "
   ]
  },
  {
   "cell_type": "code",
   "execution_count": 10,
   "id": "fb64c989-580d-4880-acef-924e57184ac2",
   "metadata": {},
   "outputs": [],
   "source": [
    "from langchain.memory import ConversationSummaryMemory\n",
    "\n",
    "# Initialize a ConversationChain with a memory in it\n",
    "conversation_summary_memory = ConversationSummaryMemory(llm=llm)\n",
    "# converstation_summary_memory = ConversationChain(....)\n",
    "conversation_with_summary_memory = ConversationChain(\n",
    "    llm=llm, memory=conversation_summary_memory\n",
    ")\n",
    "    "
   ]
  },
  {
   "cell_type": "markdown",
   "id": "a1808ae3-6388-460f-b431-55ed46833d3d",
   "metadata": {},
   "source": [
    "#### Verification"
   ]
  },
  {
   "cell_type": "code",
   "execution_count": 13,
   "id": "df8f39d6-8638-424e-813d-bde910f3f910",
   "metadata": {},
   "outputs": [
    {
     "data": {
      "text/plain": [
       "{'input': 'Gives me the historical chronology of France. I want as much dates and events as possibles.',\n",
       " 'history': ' The human wants the AI to provide a comprehensive list of dates and events in French history. The AI provides a timeline beginning in the 4th century AD with the establishment of the Merovingian Dynasty and continuing through the 11th-13th century flourish of Romanesque architecture, including several key dates and events such as the establishment of the Kingdom of the Franks, the rise of Paris as an important city, and the consolidation of Frankish rule. ',\n",
       " 'response': \" Sure! Here is a chronological list showcasing the historical evolution of France, presented in a condensed format. It outlines selected dates and events spanning from the 4th century to the modern era. \\n\\n1. 4th to 9th Century - Merovingian Dynasty and the Dawn of France:\\n\\n   - 4th century AD - The Merovingian Dynasty, notably the Salian Franks, establishes itself in Gaul. This ushers in the beginning of France's genesis, which will be built upon by succeeding generations.\\n   - 507 - Clovis I, the founder of the Merovingian Dynasty, unites all Gallic Kingdoms under his rule. This marks a significant moment in the consolidation of France's territorial essence, which was later formalized as The Kingdom of the Franks. \\n   - 752 - The establishment of the Treaty of Verdun, which divides the Frankish Empire into three segments: Austrasia, Neustria, and Burgundy.\\n\\n2. 10th to 13th Century - The Rise of France as a Significant European Power:\\n\\n   - 987 - Hugh Capet assumes the kingship, establishing the Capetians, which will eventually become the most influential French royal house.\\n   - 1000 - The Kingdom of France adopts the 'Rex Christianus' title\"}"
      ]
     },
     "execution_count": 13,
     "metadata": {},
     "output_type": "execute_result"
    }
   ],
   "source": [
    "conversation_with_summary_memory(\"Gives me the historical chronology of France. I want as much dates and events as possibles.\")\n"
   ]
  },
  {
   "cell_type": "code",
   "execution_count": 14,
   "id": "54f15d6a-eb9e-407c-8d96-532a7ce69081",
   "metadata": {},
   "outputs": [
    {
     "data": {
      "text/plain": [
       "{'input': 'Gives me the historical chronology of Spain. I want as much dates and events as possibles.',\n",
       " 'history': \" The human asks the AI to provide a chronological list of dates and events in French history. The AI provides a timeline beginning in the 4th century AD with the establishment of the Merovingian Dynasty and continuing through the 11th-13th century flourish of Romanesque architecture. The AI outlines key dates and events such as the establishment of the Kingdom of the Franks, the rise of Paris as an important city, and the consolidation of Frankish rule. The summary is appended with the AI's comprehensive list of dates and events in French history. \",\n",
       " 'response': \" Let's delve into the exciting timeline of Spain's historical events, dating back to the 8th century BC when the Iberian Peninsula was occupied by numerous tribes. Here is an extensive chronological list of significant dates and events that shaped Spain's past:\\n1. 8th to 5th centuries BC: The Iberian Peninsula experiences cultural transformations and linguistic developments amid the evolving movements of several ancient tribes.\\n2. 218 BC: Start of the Punic Wars between the Carthaginians and Romans, which would heavily influence Spain's future.\\n3. 210 BC: Romans defeat the Carthaginians in the Battle of Cartagena, pushing their borders south.\\n4. 146 BC: Romans conquer Iberian Peninsula in the Battle of Numantia, establishing Spain as a Roman province.\\n5. 27 BC: Augustus becomes the first Roman emperor, marking the onset of the Pax Romana, a period of stability in Spain.\\n\\nThe medieval period marked by ethnic and cultural diversity, political transformations, and cultural accomplishments spans the following dates:\\n1. 409 AD: The fall of the Western Roman Empire leads to Germanic tribes invading Spain.\\n2. 711 AD: Moorish invaders from North Africa establish themselves in southern Spain, beginning nearly four centuries of Islamic rule and cultural influence.\\n\"}"
      ]
     },
     "execution_count": 14,
     "metadata": {},
     "output_type": "execute_result"
    }
   ],
   "source": [
    "conversation_with_summary_memory(\"Gives me the historical chronology of Spain. I want as much dates and events as possibles.\")"
   ]
  },
  {
   "cell_type": "code",
   "execution_count": 15,
   "id": "2cc25f82-c9f0-4d68-a9d2-3a60e96c2429",
   "metadata": {},
   "outputs": [
    {
     "data": {
      "text/plain": [
       "{'input': 'Gives me the historical chronology of Angola. I want as much dates and events as possibles.',\n",
       " 'history': \" The human asks the AI to provide a chronological list of dates and events in Spanish history. The AI provides a timeline beginning in the 8th century BC with the occupation of the Iberian Peninsula by numerous tribes and continuing through the fall of the Western Roman Empire. Key dates and events such as the Punic Wars, the rise of Madrid as an important city, and the consolidation of Germanic rule are outlined. The summary is appended with the AI's comprehensive list of dates and events in Spanish history. \",\n",
       " 'response': \" Okay, here is a starting point, but let me know if you would like me to dive deeper into certain time periods or events:\\n\\nAngola's historical chronology can be broadly divided into five key periods:\\n\\n1. Pre-Colonial Era (until 1575): Significant events include the early inhabitation of southern Angola by the Khoisan and Bantu peoples, the spread of the Bantu kingdoms such as the Kongo and Lunda empires, and the arrival of Portuguese explorers in the 15th century, which led to the establishment of coastal settlements and trade posts. \\n\\n2. Colonial Era (1576-1975): In 1576, Portuguese colonizers established a permanent settlement in Angola, beginning a period of slavery, resource extraction, and political turmoil. This period includes the Angolan War of Independence, which ran from 1961 to 1974, and led to Angolan independence on November 11, 1975. \\n\\n3. Post-Colonial Civil War (1975-2002): With independence, Angola entered a tumultuous period characterized by civil war, foreign intervention, and conflict between various political factions. This period ended with a peace treaty in 2002, ushering in a period of stabilization and rebuilding. \\n\\n4. Reconstruction and Conflict (2003-present):\"}"
      ]
     },
     "execution_count": 15,
     "metadata": {},
     "output_type": "execute_result"
    }
   ],
   "source": [
    "conversation_with_summary_memory(\"Gives me the historical chronology of Angola. I want as much dates and events as possibles.\")"
   ]
  },
  {
   "cell_type": "code",
   "execution_count": 16,
   "id": "3551bd56-1044-4032-a944-a3b49f6464ed",
   "metadata": {},
   "outputs": [
    {
     "name": "stdout",
     "output_type": "stream",
     "text": [
      " The human asks the AI to provide a chronological list of dates and events in Spanish history. The AI provides a timeline beginning in the 8th century BC and continuing through the fall of the Western Roman Empire, outlining key dates and events such as the Punic Wars, the rise of Madrid as an important city, and the consolidation of Germanic rule. The summary is appended with the AI's comprehensive list of dates and events in Spanish history. The human then asks for the historical chronology of Angola. The AI lists four distinct periods: the pre-colonial era until 1575, the colonial era from 1576 to 1975, post-colonial civil war from 1975 to 2002, and reconstruction and conflict from 2003 to the present day. \n"
     ]
    }
   ],
   "source": [
    "\n",
    "print(conversation_with_summary_memory.memory.buffer)"
   ]
  },
  {
   "cell_type": "markdown",
   "id": "44b863bb-4d86-4e4f-9ebb-9178f0aa5017",
   "metadata": {},
   "source": [
    "#### From your observations - Gives the pros and cons of this memory \n",
    "\n",
    "##### Pros\n",
    "\n",
    "- the feature of summarizing can be very helpful when searching conversations by topic\n",
    "- prompt interpretation is very sufficient  \n",
    "\n",
    "##### Cons\n",
    "\n",
    "- \n",
    "-\n",
    "\n"
   ]
  },
  {
   "cell_type": "markdown",
   "id": "e2877c34-de6b-4d7a-9e69-89092422c9e3",
   "metadata": {},
   "source": [
    "### ConversationSummaryBufferMemory\n",
    "\n",
    "The conversation summary buffer memory keeps a buffer of recent interactions in memory, but rather than just completely flushing old interactions, it compiles them into a summary and uses both."
   ]
  },
  {
   "cell_type": "code",
   "execution_count": 17,
   "id": "6c71c89e-7fcb-4034-aa81-5cd21a7dae0b",
   "metadata": {},
   "outputs": [],
   "source": [
    "from langchain.memory import ConversationSummaryBufferMemory\n",
    "# Initialize a ConversationChain with a memory in it\n",
    "conversation_summary_buffer_memory = ConversationSummaryBufferMemory(llm=llm)\n",
    "# converstation_summary_buffer_memory = ConversationChain(....)\n",
    "conversation_with_summary_buffer_memory = ConversationChain(\n",
    "    llm=llm, memory=conversation_summary_buffer_memory\n",
    ")\n",
    "\n",
    "    "
   ]
  },
  {
   "cell_type": "markdown",
   "id": "5fc21042-4c73-4ce1-b797-d8fff0902b71",
   "metadata": {},
   "source": [
    "#### Verification"
   ]
  },
  {
   "cell_type": "code",
   "execution_count": 18,
   "id": "a45f896a-962f-4631-8391-220f2433fb99",
   "metadata": {},
   "outputs": [
    {
     "data": {
      "text/plain": [
       "{'input': 'Gives me the historical chronology of France. I want as much dates and events as possibles.',\n",
       " 'history': '',\n",
       " 'response': \" Sure, here is an expanded version of the chronological timeline of important dates and events in the history of France, presented in a calendar format for easier reference:\\n\\nPrehistory: \\n\\n- Around 700,000 BC, early Homo erectus inhabits the site of Terra Amata, an ancient river settlement on the outskirts of modern-day Paris. \\n\\n- During the Upper Paleolithic, the presence of Neanderthals and later Homo sapiens suggests a rich human habitation history within modern-day French borders. (Dates uncertain, but extending from around 50,000 to 10,000 BC.) \\n\\nPhantomolithic Era: \\n\\n- c. 4,800 BC: Theacies and Carreries, two dolmens located in Côtes-d'Armor, demonstrate the presence of Neolithic populations in northern France. \\n\\n- c. 4,500 BC: TheSaint-Michel-du-Touchou725rgane, a Neolithic passage tomb, is constructed in the Loire-Atlantique department. \\n\\nAncient History: \\n\\n- Mid-2nd Millennium BC: The Carnac stones on the Brittany coast were erected, with megalithic monuments suggesting an advanced Neolithic culture. \\n\\n- c. 1500\"}"
      ]
     },
     "execution_count": 18,
     "metadata": {},
     "output_type": "execute_result"
    }
   ],
   "source": [
    "conversation_with_summary_buffer_memory(\"Gives me the historical chronology of France. I want as much dates and events as possibles.\")"
   ]
  },
  {
   "cell_type": "code",
   "execution_count": 19,
   "id": "4baff8bc-bd1c-421f-adee-22367bd2f5bc",
   "metadata": {},
   "outputs": [
    {
     "data": {
      "text/plain": [
       "{'input': 'Gives me the historical chronology of Spain. I want as much dates and events as possibles.',\n",
       " 'history': \"Human: Gives me the historical chronology of France. I want as much dates and events as possibles.\\nAI:  Sure, here is an expanded version of the chronological timeline of important dates and events in the history of France, presented in a calendar format for easier reference:\\n\\nPrehistory: \\n\\n- Around 700,000 BC, early Homo erectus inhabits the site of Terra Amata, an ancient river settlement on the outskirts of modern-day Paris. \\n\\n- During the Upper Paleolithic, the presence of Neanderthals and later Homo sapiens suggests a rich human habitation history within modern-day French borders. (Dates uncertain, but extending from around 50,000 to 10,000 BC.) \\n\\nPhantomolithic Era: \\n\\n- c. 4,800 BC: Theacies and Carreries, two dolmens located in Côtes-d'Armor, demonstrate the presence of Neolithic populations in northern France. \\n\\n- c. 4,500 BC: TheSaint-Michel-du-Touchou725rgane, a Neolithic passage tomb, is constructed in the Loire-Atlantique department. \\n\\nAncient History: \\n\\n- Mid-2nd Millennium BC: The Carnac stones on the Brittany coast were erected, with megalithic monuments suggesting an advanced Neolithic culture. \\n\\n- c. 1500\",\n",
       " 'response': ' Certainly! Here is a chronological timeline of important dates and events in Spanish history:\\n\\nPrehistory:\\n\\n- During the Paleolithic period, various human species inhabited present-day Spain. The earliest traces go back to around 1,000,000 BC, with Homo antecessor speculated to have inhabited the area.\\n\\n- The Upper Paleolithic sees the arrival of Neanderthals and later Homo sapiens, with meaningful remnants found in caves like Altamira, Cantabria (around 35,000 BC).\\n\\n- The Mesolithic period (10,000 to 6,000 BC) marks the transition to sedentary lifestyles and hunter-gatherer cultures.\\n\\nAncient History:\\n\\n- c. 6000 BC: The Mesolithic period concludes with the introduction of agriculture and the establishment of Neolithic cultures in Spain. The builders of the Stone Age monuments, such as the Megaliths of Antequera, originated from the Mediterranean coast.\\n\\n- c. 3000 BC: The Torre Cuesta del Agua, an early Stone Age tower located in the municipality of Santa Cruz de Tenerife, suggests the presence of an advanced society on the island. \\n\\n- c. 2000 BC: The Peninsula experienced invasions and cultural shifts. Specifically,'}"
      ]
     },
     "execution_count": 19,
     "metadata": {},
     "output_type": "execute_result"
    }
   ],
   "source": [
    "conversation_with_summary_buffer_memory(\"Gives me the historical chronology of Spain. I want as much dates and events as possibles.\")"
   ]
  },
  {
   "cell_type": "code",
   "execution_count": 21,
   "id": "add908b0-d30c-4fbe-8e8d-270aa762e905",
   "metadata": {},
   "outputs": [
    {
     "name": "stdout",
     "output_type": "stream",
     "text": [
      "[HumanMessage(content='Gives me the historical chronology of France. I want as much dates and events as possibles.'), AIMessage(content=\" Sure, here is an expanded version of the chronological timeline of important dates and events in the history of France, presented in a calendar format for easier reference:\\n\\nPrehistory: \\n\\n- Around 700,000 BC, early Homo erectus inhabits the site of Terra Amata, an ancient river settlement on the outskirts of modern-day Paris. \\n\\n- During the Upper Paleolithic, the presence of Neanderthals and later Homo sapiens suggests a rich human habitation history within modern-day French borders. (Dates uncertain, but extending from around 50,000 to 10,000 BC.) \\n\\nPhantomolithic Era: \\n\\n- c. 4,800 BC: Theacies and Carreries, two dolmens located in Côtes-d'Armor, demonstrate the presence of Neolithic populations in northern France. \\n\\n- c. 4,500 BC: TheSaint-Michel-du-Touchou725rgane, a Neolithic passage tomb, is constructed in the Loire-Atlantique department. \\n\\nAncient History: \\n\\n- Mid-2nd Millennium BC: The Carnac stones on the Brittany coast were erected, with megalithic monuments suggesting an advanced Neolithic culture. \\n\\n- c. 1500\"), HumanMessage(content='Gives me the historical chronology of Spain. I want as much dates and events as possibles.'), AIMessage(content=' Certainly! Here is a chronological timeline of important dates and events in Spanish history:\\n\\nPrehistory:\\n\\n- During the Paleolithic period, various human species inhabited present-day Spain. The earliest traces go back to around 1,000,000 BC, with Homo antecessor speculated to have inhabited the area.\\n\\n- The Upper Paleolithic sees the arrival of Neanderthals and later Homo sapiens, with meaningful remnants found in caves like Altamira, Cantabria (around 35,000 BC).\\n\\n- The Mesolithic period (10,000 to 6,000 BC) marks the transition to sedentary lifestyles and hunter-gatherer cultures.\\n\\nAncient History:\\n\\n- c. 6000 BC: The Mesolithic period concludes with the introduction of agriculture and the establishment of Neolithic cultures in Spain. The builders of the Stone Age monuments, such as the Megaliths of Antequera, originated from the Mediterranean coast.\\n\\n- c. 3000 BC: The Torre Cuesta del Agua, an early Stone Age tower located in the municipality of Santa Cruz de Tenerife, suggests the presence of an advanced society on the island. \\n\\n- c. 2000 BC: The Peninsula experienced invasions and cultural shifts. Specifically,'), HumanMessage(content='Gives me the historical chronology of Germany. I want as much dates and events as possibles.'), AIMessage(content=' Here is a chronological timeline of important dates and events in German history:\\n\\nPrehistory:\\n\\n- The earliest known human settlements in present-day Germany date back to the Paleolithic period. The oldest human bones found in Germany are from Meierstadter Bach, dating to around 300,000 years ago. \\n\\n- Throughout the Paleolithic and Mesolithic periods, the German territory saw influxes of different human populations, including Neanderthals and Homo sapiens. \\n\\n- The Neolithic period saw the transition to agricultural practices and the construction of dolmen and passage graves, such as the Jungsteinzeitliche Fürstengruft in Rhein-Ottweiler, indicating cultural richness.\\n\\nAncient History:\\n\\n- c. 4,500 BC: The Early Bronze Age Beaker culture, contributing to socioeconomic transformation and cultural homogenization in Germany.\\n\\n- c. 800 BC: The Celtic La Tène culture emerges and flourishes in central Europe, including Germany, and marks the onset of the Iron Age. \\n\\n- c. 1st Century BC: The Romans began expanding their empire into Germania, leading to confrontations and cultural mergers. \\n\\n- c. 1st Century AD: The Rhine and Danube became the Roman Empire'), HumanMessage(content='Gives me the historical chronology of Germany. I want as much dates and events as possibles.'), AIMessage(content=' Here is a revised version of the chronological timeline of important dates and events in German history:\\n\\nPrehistory:\\n\\n- c. 2,000,000 BC: Estimated date of the earliest known human settlements in present-day Germany, during the Paleolithic period.\\n\\n- c. 300,000 BC: Remains of Homo erectus are found in present-day Schöningen (Schleswig-Holstein).\\n\\n- c. 45,000 BC: Neanderthals inhabit present-day Germany.\\n\\n- c. 20,000 BC: Homo sapiens appear in Germany at the end of the last Ice Age.\\n\\n- c. 5000 BC: The Neolithic period sees the arrival of agricultural practices and the establishment of permanent settlements in Germany.\\n\\n- c. 3500 BC: The earliest known pile settlements developed along the edges of lakes, including the Borgstedt settlement in Schleswig-Holstein.\\n\\n- c. 2100 BC: The appearance of the Bell Beaker culture signifies societal evolution and cultural changes. \\n\\nAncient History:\\n\\n- c. 1600 BC: The arrival of the Corded Ware culture, which originated from the region east of the Oder, brought cultural upheaval.\\n\\n- c.')]\n"
     ]
    }
   ],
   "source": [
    "conversation_with_summary_buffer_memory(\"Gives me the historical chronology of Germany. I want as much dates and events as possibles.\")\n",
    "\n",
    "# We should be able to get the whole conversation inside the memory\n",
    "print(conversation_with_summary_buffer_memory.memory.buffer)"
   ]
  },
  {
   "cell_type": "markdown",
   "id": "f94d108d-d2a8-47ab-a552-5eb970e202ca",
   "metadata": {},
   "source": [
    "#### From your observations - Gives the pros and cons of this memory \n",
    "\n",
    "##### Pros\n",
    "\n",
    "- Provides a summary of previous questions in the history part, aiding in quick reference.\n",
    "- Allows for easy retrieval of past interactions.\n",
    "\n",
    "##### Cons\n",
    "\n",
    "- It often returns the entire question asked by the human and the complete AI answer.\n",
    "- The same information might be repeated across different parts of the conversation memory.\n",
    "\n"
   ]
  }
 ],
 "metadata": {
  "kernelspec": {
   "display_name": "Python 3 (ipykernel)",
   "language": "python",
   "name": "python3"
  },
  "language_info": {
   "codemirror_mode": {
    "name": "ipython",
    "version": 3
   },
   "file_extension": ".py",
   "mimetype": "text/x-python",
   "name": "python",
   "nbconvert_exporter": "python",
   "pygments_lexer": "ipython3",
   "version": "3.10.7"
  }
 },
 "nbformat": 4,
 "nbformat_minor": 5
}
