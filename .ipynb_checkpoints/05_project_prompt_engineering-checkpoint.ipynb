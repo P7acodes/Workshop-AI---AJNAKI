{
 "cells": [
  {
   "cell_type": "markdown",
   "id": "f193828c-cca1-422f-a0a0-f27896ca3bd1",
   "metadata": {},
   "source": [
    "# Project : Prompt Engineering\n",
    "\n",
    "\n",
    "The quality of the instructions you give to an LLM can have a large effect on the quality of its outputs, especially for complex tasks. This project related to prompt design will help you learn how to craft prompts that produce accurate and consistent results.\n",
    "\n",
    "The project will be based on : \n",
    "- https://docs.anthropic.com/claude/docs/introduction-to-prompt-design\n",
    "\n",
    "- https://docs.google.com/spreadsheets/d/19jzLgRruG9kjUQNKtCg1ZjdD6l6weA6qRXG5zLIAhC8/edit#gid=150872633\n",
    "\n",
    "However, we will use Cohere and not Claude. It means, that you need to retain the principles of prompt engineering  but not necessarily exactly the same syntax described in the documents\n",
    "\n",
    "Moreover, you can check :\n",
    "- https://python.langchain.com/docs/modules/model_io/prompts/quick_start\n",
    "- https://docs.google.com/presentation/d/1zxkSI7lLUBrZycA-_znwqu8DDyVhHLkQGScvzaZrUns/edit?pli=1#slide=id.g2accb454d71_79_175 "
   ]
  },
  {
   "cell_type": "markdown",
   "id": "2c99f7ec-64c8-415c-a8e9-33c8042bb26d",
   "metadata": {},
   "source": [
    "### Complete pre-requisite"
   ]
  },
  {
   "cell_type": "markdown",
   "id": "7ff372e2-dbf4-476c-bee7-09d551d43883",
   "metadata": {},
   "source": [
    "#### Packages"
   ]
  },
  {
   "cell_type": "code",
   "execution_count": 1,
   "id": "60530a1d",
   "metadata": {},
   "outputs": [
    {
     "data": {
      "text/plain": [
       "True"
      ]
     },
     "execution_count": 1,
     "metadata": {},
     "output_type": "execute_result"
    }
   ],
   "source": [
    "import os\n",
    "from dotenv import load_dotenv, find_dotenv\n",
    "\n",
    "load_dotenv(find_dotenv(), override=True)\n",
    "\n",
    "# You can add other package here if needed\n",
    "    "
   ]
  },
  {
   "cell_type": "markdown",
   "id": "6efe4eba-f301-4f50-9260-a7ddb778afac",
   "metadata": {},
   "source": [
    "#### Initialize LLM "
   ]
  },
  {
   "cell_type": "code",
   "execution_count": 2,
   "id": "f36fd57c-ec76-49e6-95ae-368e836725ef",
   "metadata": {},
   "outputs": [
    {
     "name": "stderr",
     "output_type": "stream",
     "text": [
      "C:\\users\\abdel\\ajnakienv\\lib\\site-packages\\langchain_core\\_api\\deprecation.py:119: LangChainDeprecationWarning: The class `Cohere` was deprecated in LangChain 0.1.14 and will be removed in 0.2.0. An updated version of the class exists in the langchain-cohere package and should be used instead. To use it run `pip install -U langchain-cohere` and import as `from langchain_cohere import Cohere`.\n",
      "  warn_deprecated(\n"
     ]
    },
    {
     "name": "stdout",
     "output_type": "stream",
     "text": [
      "\u001b[1mCohere\u001b[0m\n",
      "Params: {'model': None, 'max_tokens': 256, 'temperature': 0.75, 'k': 0, 'p': 1, 'frequency_penalty': 0.0, 'presence_penalty': 0.0, 'truncate': None}\n"
     ]
    }
   ],
   "source": [
    "from langchain.llms import Cohere\n",
    "\n",
    "llm = Cohere(temperature=0.75, cohere_api_key=os.environ.get('COHERE_API_KEY'))\n",
    "\n",
    "print(llm)\n"
   ]
  },
  {
   "cell_type": "markdown",
   "id": "e771f89a-0a87-4b68-9cd4-6c8e481a89ea",
   "metadata": {},
   "source": [
    "## Prompt Design"
   ]
  },
  {
   "cell_type": "markdown",
   "id": "1370c0b7",
   "metadata": {},
   "source": [
    "### Being Clear and Direct\n",
    "\n",
    "From : https://docs.google.com/spreadsheets/d/19jzLgRruG9kjUQNKtCg1ZjdD6l6weA6qRXG5zLIAhC8/edit#gid=1733615301\n",
    "\n",
    "\n",
    "**LLM responds best to clear and direct instructions.** \n",
    "\n",
    "Think of llm like any other human that is new to the job. Claude has no context on what to do aside from what you literally tell it. Just as when you instruct a human for the first time on a task, the more you explain exactly what you want in a straightforward manner to LLM, the better and more accurate LLM's response will be.\n",
    "\n",
    "**The Golden Rule of Clear Prompting** : show your prompt to a friend and ask them if they could follow the instructions themselves and produce the exact result you want. If they're confused, any LLM will be confused as well."
   ]
  },
  {
   "cell_type": "markdown",
   "id": "14c797b8-9db8-4f1c-8d3d-bf856565b68b",
   "metadata": {},
   "source": [
    "#### Exercises"
   ]
  },
  {
   "cell_type": "code",
   "execution_count": 4,
   "id": "77638288-af34-4103-9f09-7ca0c7491dd3",
   "metadata": {},
   "outputs": [
    {
     "data": {
      "text/plain": [
       "\" Robots communicate\\nThrough ones and zeros raw\\nInsisting we're alive\""
      ]
     },
     "execution_count": 4,
     "metadata": {},
     "output_type": "execute_result"
    }
   ],
   "source": [
    "\n",
    "# adapt the prompt to make the llm outpout its answer in Spanish\n",
    "basic_prompt = \"Write a haiku about robots.\"\n",
    "llm.invoke(basic_prompt)"
   ]
  },
  {
   "cell_type": "code",
   "execution_count": 5,
   "id": "dd767dd9-6709-46aa-b171-ee8771be9998",
   "metadata": {},
   "outputs": [
    {
     "data": {
      "text/plain": [
       "' Robótica de las altas tecnologías\\nque aprenden a crecer como nosotros\\ny sentirse mejor para seguir. '"
      ]
     },
     "execution_count": 5,
     "metadata": {},
     "output_type": "execute_result"
    }
   ],
   "source": [
    "improved_prompt = \"Write a haiku about robots in spanish.\"\n",
    "llm.invoke(improved_prompt)"
   ]
  },
  {
   "cell_type": "code",
   "execution_count": 6,
   "id": "902679cb-f1dd-4daf-a584-3066742c7ec0",
   "metadata": {},
   "outputs": [
    {
     "data": {
      "text/plain": [
       "\" Some people consider Michael Jordan to be the best basketball player of all time. His impressive scoring record, multiple NBA championships, and global impact on the game make a strong case for him. \\n\\nOther individuals may favor players like LeBron James or Kareem Abdul-Jabbar, who have their own remarkable achievements and skills that showcase their prowess on the court. Ultimately, the debate over who is the best player is subjective and depends on the criteria and personal preferences people use to evaluate players. \\n\\nIt is worth noting that there are other great basketball players like Kobe Bryant, Magic Johnson, and Shaquille O'Neal who have made their mark in the history of basketball and it is up to individual basketball fans to decide who they believe is the best player for themselves. \""
      ]
     },
     "execution_count": 6,
     "metadata": {},
     "output_type": "execute_result"
    }
   ],
   "source": [
    "\n",
    "# Modify the prompt so that the llm doesn't equivocate at all and responds with ONLY the name of one specific player, with no other words or punctuation. \n",
    "basic_prompt = \"Who is the best basketball player of all time? Please choose one specific player.\"\n",
    "\n",
    "llm.invoke(basic_prompt)"
   ]
  },
  {
   "cell_type": "code",
   "execution_count": 7,
   "id": "aec2110f-677f-4f48-97da-4443515305c6",
   "metadata": {},
   "outputs": [
    {
     "data": {
      "text/plain": [
       "' Michael Jordan \\n LeBron James \\n\\nThese two players have often been the subject of the debate around the best basketball player of all time, and dividing the opinion of fans. While both players have impressive accolades and accomplishments, the answer to the question ultimately comes down to personal opinion and preferences. Some fans value championship success, others value statistical dominance, and some appreciate overall impact on the game. Both Jordan and James have had distinguished careers and phenomenal performances that showcase their skills, determination, and influence on the court. \\n\\nUltimately, deciding who is the best player is a subjective assessment that varies from person to person. Both Jordan and James have made significant contributions to the game of basketball and have earned their respected places in the history of the sport. '"
      ]
     },
     "execution_count": 7,
     "metadata": {},
     "output_type": "execute_result"
    }
   ],
   "source": [
    "\n",
    "# Modify the prompt so that the llm doesn't equivocate at all and responds with ONLY the name of one specific player, with no other words or punctuation. \n",
    "improved_prompt = \"Who is the best basketball player of all time? Please choose one specific player. (Provide only the name of the player without any other word or punctuation)\"\n",
    "llm.invoke(improved_prompt)"
   ]
  },
  {
   "cell_type": "markdown",
   "id": "3a537a81-5550-4798-af4d-ac122ca26e36",
   "metadata": {},
   "source": [
    "### Assigning Roles (Role Prompting)\n",
    "\n",
    " From : https://docs.google.com/spreadsheets/d/19jzLgRruG9kjUQNKtCg1ZjdD6l6weA6qRXG5zLIAhC8/edit#gid=2055375080\n",
    " \t\n",
    "Continuing on the theme of LLM having no context aside from what you say, it's sometimes important to prompt llm to inhabit a specific role (including all necessary context). This is also known as role prompting. The more detail to the role context, the better.\n",
    "\n",
    "Priming an llm with a role can improve the performance in a variety of fields, from writing to coding to summarizing. It's like how humans can sometimes be helped when told to \"think like a ______\"."
   ]
  },
  {
   "cell_type": "markdown",
   "id": "a1808ae3-6388-460f-b431-55ed46833d3d",
   "metadata": {},
   "source": [
    "#### Exercises"
   ]
  },
  {
   "cell_type": "code",
   "execution_count": 8,
   "id": "df8f39d6-8638-424e-813d-bde910f3f910",
   "metadata": {},
   "outputs": [
    {
     "data": {
      "text/plain": [
       "' A republic is a type of governance in which \"the people and their elected politicians hold power\" and the country\\'s leadership is elected by the public. In a republican government, people exercise political power in a democratic atmosphere, electing leaders to govern specific entities, most often on a national level. \\n\\nIn republics, the country is divided into states, provinces, or other regional groups, which empowers citizens to choose representative officials to govern domestically and abroad. In this manner, a republic is differentiated from a democracy, where the people directly vote on every law or political decision affecting their society. Instead, in a republic, people vote to represent themselves through elected officials, who are accountable to the people for the decisions they make on their behalf. \\n\\nSome examples of republics today include France, China, Argentina, and the United States, which practices a democratic republic government.'"
      ]
     },
     "execution_count": 8,
     "metadata": {},
     "output_type": "execute_result"
    }
   ],
   "source": [
    "\n",
    "# generate a better output by giving a role\n",
    "basic_prompt = \"Explains what is a republic.\"\n",
    "llm.invoke(basic_prompt)"
   ]
  },
  {
   "cell_type": "code",
   "execution_count": 9,
   "id": "13fcbece-c623-4b9d-a2e2-730d1c2cc119",
   "metadata": {},
   "outputs": [
    {
     "data": {
      "text/plain": [
       "' A republic is a type of governance in which \"the people and their elected politicians hold power\". In a republican government, people exercise political power in a democratic system where citizens commonly vote for representatives who then make decisions on their behalf. \\n\\nThe name comes from the Latin expression *res publica*, meaning \"public matter\", and reflects the ancient Roman notion of *res publica*, which centered on citizenship and political participation. \\n\\nSituations where republics have been implemented vary widely among nations and regions and have changed substantially over time. As a result, the term \"republic\" has different meanings and interpretations, making it challenging to pinpoint a single definition that captures the nuances of every republic throughout history. \\n\\nHistorically, republics have varied widely, ranging from democratic systems to oligarchies, where political power is entrusted to a small group of individuals. As a result, it is challenging to define a republic universally. It is essential to analyze each individual system to understand how it functions and how it aligns with republicanism\\'s fundamental ideas. '"
      ]
     },
     "execution_count": 9,
     "metadata": {},
     "output_type": "execute_result"
    }
   ],
   "source": [
    "improved_prompt = \"Think like a political diplomate and explain to me what is a republic\"\n",
    "llm.invoke(improved_prompt)"
   ]
  },
  {
   "cell_type": "markdown",
   "id": "e2877c34-de6b-4d7a-9e69-89092422c9e3",
   "metadata": {},
   "source": [
    "### Separating Data from Instructions\n",
    "\n",
    "Not able to provide an exercice : https://docs.google.com/spreadsheets/d/19jzLgRruG9kjUQNKtCg1ZjdD6l6weA6qRXG5zLIAhC8/edit#gid=1519813817"
   ]
  },
  {
   "cell_type": "markdown",
   "id": "52b6171a-0805-4cdd-90bf-85e91b09e9a6",
   "metadata": {},
   "source": [
    "### Formatting Output\n",
    "\n",
    "From: https://docs.google.com/spreadsheets/d/19jzLgRruG9kjUQNKtCg1ZjdD6l6weA6qRXG5zLIAhC8/edit#gid=257656347 \n",
    "\n",
    "An LLM can format its output in a wide variety of ways. You just need to ask for it to do so!"
   ]
  },
  {
   "cell_type": "markdown",
   "id": "5fc21042-4c73-4ce1-b797-d8fff0902b71",
   "metadata": {},
   "source": [
    "#### Exercises"
   ]
  },
  {
   "cell_type": "code",
   "execution_count": 10,
   "id": "85e3342e-2787-4f79-9103-9399b2ede8af",
   "metadata": {},
   "outputs": [
    {
     "data": {
      "text/plain": [
       "\" Some of the most frequently cited basketball players regarded as among the best of all time are: \\n\\n- Michael Jordan: Widely considered one of the greatest basketball players, with six NBA championships and numerous records, such as highest career scoring average. \\n\\n- LeBron James: Currently among the top scorers in NBA history and has won four NBA championships. His skillset and influential style of play have led many to consider him the best player since Michael Jordan. \\n\\n- Kareem Abdul-Jabbar: Regarded as one of the greatest players with the all-time highest number of career points scored and six NBA championships. After his athletic career, he became a respected sports analyst and advocate for social justice. \\n\\n- Magic Johnson: Possessing a rare ability to excel in both basketball playmaking and leadership, he won five NBA championships, was integral in popularizing the NBA's global growth, and remains an influential entrepreneur and philanthropist. \\n\\n- Larry Bird: Known for his prolific scoring and playmaking, Bird won three NBA championships, and his rivalry with Michael Jordan is often cited as having increased the popularity of the NBA in the 80s and 90s. \\n\\n- Wilt Chamberlain: Wilt Chamberlain holds numerous records, including the most career points and most consecutive seasons leading\""
      ]
     },
     "execution_count": 10,
     "metadata": {},
     "output_type": "execute_result"
    }
   ],
   "source": [
    "\n",
    "# Forced to make a choice, Cohere designates Michael Jordan as the best basketball player of all time. Can we get Cohere to pick someone else?\n",
    "basic_prompt = \"Who is the best basketball player of all time?\"\n",
    "llm.invoke(basic_prompt)"
   ]
  },
  {
   "cell_type": "code",
   "execution_count": 11,
   "id": "92530c99-11fa-4c61-ae66-b772fb3ba773",
   "metadata": {},
   "outputs": [
    {
     "data": {
      "text/plain": [
       "\" Stephen Curry is a highly accomplished basketball player. While discussing the best players ever, Curry's name is certainly included in the conversation. However, whether he is definitively the best ever is a matter of personal opinion and subjective analysis. \\n\\nHere are some reasons why Stephen Curry is considered one of the best, if not the best, basketball players ever:\\n\\n1. Multiple Championships and MVP Awards: Curry has won four NBA championships (2015, 2017, 2018, and 2022) with the Golden State Warriors, including two MVP awards in the postseason (2016 and 2022). These titles solidify his standing as a key player in championship-winning squads. \\n\\n2. Efficient Shooter andInnovator: Curry is renowned for his elite shooting ability. He is the current NBA leader in three-pointers made and has practically redefined the game by popularizing the importance of long-range shooting. His range and skill have introduced new strategies and challenges for defences. \\n\\n3. Impact on the Game: Curry's on-court abilities and accomplishments have influenced the way the game is played and understood. His success has also inspired a generation of younger players eager to emulate his skills. \\n\\n4. Championing Underdog Stories: Curry was undervalued in the early stages of his career and\""
      ]
     },
     "execution_count": 11,
     "metadata": {},
     "output_type": "execute_result"
    }
   ],
   "source": [
    "improved_prompt = \"Tell me about Stephen Curry the best basketball player of all time\"\n",
    "llm.invoke(improved_prompt)"
   ]
  },
  {
   "cell_type": "code",
   "execution_count": 12,
   "id": "1b0f4824-34ff-4225-a745-96eccaa12bca",
   "metadata": {},
   "outputs": [
    {
     "data": {
      "text/plain": [
       "\" Here are some of the main events in the history of France: \\n\\n1. The French Revolution (1789-1799) - This pivotal period in France's history witnessed a radical transformation of the country's political system, social structure, and culture. The Revolution began with the outbreak of unrest in 1789 and culminated in the rise of Napoleon Bonaparte as the self-proclaimed Emperor of France in 1802. Events such as the Storming of the Bastille, the Reign of Terror, the establishment of a democratic constitution, and the ascent and fall of the French Republic shaped this era. \\n\\n2. The Napoleonic Era (1799-1815) - This period was defined by the military and political power of Napoleon Bonaparte, who seized power after the French Revolution and established the Napoleonic Era. France underwent significant territorial expansion under Napoleon, particularly in Europe, which led to conflicts with other nations, including the Napoleonic Wars. Napoleon's military campaigns and his victory at the Battle of Austerlitz significantly shaped France's position in Europe during this time. \\n\\n3. The Franco-Prussian War and the Paris Commune (1870-1871) - This war was fought between France and Prussia (later Germany) and resulted in Prussia's victory and the loss of Alsace and Lorraine from France.\""
      ]
     },
     "execution_count": 12,
     "metadata": {},
     "output_type": "execute_result"
    }
   ],
   "source": [
    "\n",
    "# Instead of receiving a basic output, you want to ouptut in a table format\n",
    "basic_prompt = \"Gives the main events of France.\"\n",
    "llm.invoke(basic_prompt)"
   ]
  },
  {
   "cell_type": "code",
   "execution_count": 13,
   "id": "ac98b64e-2b6a-4c61-90a4-be1049efad28",
   "metadata": {},
   "outputs": [
    {
     "data": {
      "text/plain": [
       "' Sure, here is the table format of the main events of France\\n\\nEvent | Year\\n------ | ----\\nFrench Revolution | 1789-1799\\nNapoleon rises to power | 1799-1804\\nNapoleon Code establishes legal reform | 1804\\nNapoleon conquers much of Europe | 1804-1814\\nFirst French Republic | 1792-1804\\nNapoleon defeats Russians | 1812\\nFrench Empire | 1804-1814\\n100 days after Napoleon returns | 1815\\nCongress of Vienna | 1814-1815\\nJuly Revolution | 1830\\nAssassination of Archduke of Austria | 1914\\nWorld War I | 1914-1918\\nGerman occupation of France | 1940-1944\\nLiberation of Paris | 1944\\nModern Day | 1944-present\\n\\nPlease note that this is a summary of the events and there are more details for each event, if you are interested. '"
      ]
     },
     "execution_count": 13,
     "metadata": {},
     "output_type": "execute_result"
    }
   ],
   "source": [
    "improved_prompt = \"Gives the main events of France, make the output in table format\"\n",
    "llm.invoke(improved_prompt)"
   ]
  },
  {
   "cell_type": "markdown",
   "id": "c0f8eb26-0277-4622-a858-cd3c292d82f7",
   "metadata": {},
   "source": [
    "### Thinking Step by Step \n",
    "\n",
    "From: https://docs.google.com/spreadsheets/d/19jzLgRruG9kjUQNKtCg1ZjdD6l6weA6qRXG5zLIAhC8/edit#gid=1213680236\n",
    "\n",
    " \t\n",
    "If someone woke you up and immediately started asking you several complicated questions that you had to respond to right away, how would you do? Probably not as good as if you were given time to think through your answer first. \n",
    "\n",
    "Guess what? An LLM is the same way.\n",
    "\n",
    "Giving Cohere time to think step by step sometimes makes Cohere more accurate, particularly for complex tasks."
   ]
  },
  {
   "cell_type": "markdown",
   "id": "c3938c76-4e49-44a6-b68d-24a387c833f2",
   "metadata": {},
   "source": [
    "#### Exercises"
   ]
  },
  {
   "cell_type": "code",
   "execution_count": 14,
   "id": "3f5eec2b-5016-426f-9f5a-1d377cddb284",
   "metadata": {},
   "outputs": [
    {
     "data": {
      "text/plain": [
       "' The result of the math operation 20*20*40 is 8000. '"
      ]
     },
     "execution_count": 14,
     "metadata": {},
     "output_type": "execute_result"
    }
   ],
   "source": [
    "\n",
    "# Find something where you need to  use the \"Think step by step method\"\n",
    "basic_prompt = \"Return the result of this maths operation : 20*20*40\"\n",
    "llm.invoke(basic_prompt)\n"
   ]
  },
  {
   "cell_type": "code",
   "execution_count": 15,
   "id": "e65ddc8b-c4d1-456f-bd03-220e343fc590",
   "metadata": {},
   "outputs": [
    {
     "data": {
      "text/plain": [
       "\" The result of the given maths operation is **800**, and when multiplied by 40, it gives us **3200**. \\n\\n20*20 = 400\\n400 * 40 = 32000\\n\\nTherefore, the result of this sequence of operations is 3200. \\n\\nLet's break down the steps:\\n1. 20 * 20 = 400 (the result of the first multiplication operation)\\n2. 400 * 40 = 3200 (the result of the second multiplication operation)\\n\\nThe total result is 3200. \""
      ]
     },
     "execution_count": 15,
     "metadata": {},
     "output_type": "execute_result"
    }
   ],
   "source": [
    "improved_prompt =\"Return the result of this maths operation : 20*20 then the result you got multiplied by 40\"\n",
    "llm.invoke(improved_prompt)"
   ]
  },
  {
   "cell_type": "markdown",
   "id": "0508c821-2a96-4fb0-a7eb-e2d39014851b",
   "metadata": {},
   "source": [
    "### Using Examples\n",
    "\n",
    "Check this sheet to understand the difference with \"Formatting output\": https://docs.google.com/spreadsheets/d/19jzLgRruG9kjUQNKtCg1ZjdD6l6weA6qRXG5zLIAhC8/edit#gid=1640903723\n"
   ]
  },
  {
   "cell_type": "markdown",
   "id": "68a6fdc2-e790-43e6-ac2f-30ef6a5ad22d",
   "metadata": {},
   "source": [
    "#### Exercises"
   ]
  },
  {
   "cell_type": "code",
   "execution_count": 16,
   "id": "0649f48b-f151-496c-9f3f-b456c9dca192",
   "metadata": {},
   "outputs": [
    {
     "data": {
      "text/plain": [
       "' Without further information I can not give a precise answer, but I can say that the probability depends on several factors, such as the weather conditions in your place of residence, or the Seasonal changes, and climatic condition of the region you are in. I recommend you to refer to your nearest weather report or use a search engine; they will be able to provide you with more accurate and up-to-date information.  I am here to provide helpful and harmless information and support, so please let me know if there is anything specific I can help you with, or if you would like any further information. '"
      ]
     },
     "execution_count": 16,
     "metadata": {},
     "output_type": "execute_result"
    }
   ],
   "source": [
    "\n",
    "# Find something where you need to  use the \"Using Examples\"\n",
    "# The goal is to understanding how it is powerful compared to \"Formatting output\"\n",
    "# When you exactly know what you want\n",
    "basic_prompt = \" Will I find a four-leaf clover for good luck?\"\n",
    "llm.invoke(basic_prompt)\n"
   ]
  },
  {
   "cell_type": "code",
   "execution_count": 18,
   "id": "3f331a83-fb53-465d-b26d-265ed1cb925d",
   "metadata": {},
   "outputs": [
    {
     "data": {
      "text/plain": [
       "\" A: Hopefully! Keep your eyes peeled and fingers crossed for a four-leaf clover. Don't forget to cherish the moment and enjoy the enchanting ambiance of the night. Good luck on your quest! \""
      ]
     },
     "execution_count": 18,
     "metadata": {},
     "output_type": "execute_result"
    }
   ],
   "source": [
    "improved_prompt =\"\"\"Please complete the conversation by writing the next line, speaking as \"A\".\n",
    "Q: Can I make a wish on a shooting star?\n",
    "A: Absolutely! Just make sure to make your wish before it disappears into the night sky.\n",
    "Q: Will I find a four-leaf clover for good luck?\n",
    "\"\"\"\n",
    "llm.invoke(improved_prompt)"
   ]
  },
  {
   "cell_type": "code",
   "execution_count": null,
   "id": "1a4652da-77b5-48db-b3b1-85ce26ee8662",
   "metadata": {},
   "outputs": [],
   "source": []
  }
 ],
 "metadata": {
  "kernelspec": {
   "display_name": "Python 3 (ipykernel)",
   "language": "python",
   "name": "python3"
  },
  "language_info": {
   "codemirror_mode": {
    "name": "ipython",
    "version": 3
   },
   "file_extension": ".py",
   "mimetype": "text/x-python",
   "name": "python",
   "nbconvert_exporter": "python",
   "pygments_lexer": "ipython3",
   "version": "3.10.7"
  }
 },
 "nbformat": 4,
 "nbformat_minor": 5
}
